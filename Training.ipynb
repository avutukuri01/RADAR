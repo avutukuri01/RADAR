{
 "cells": [
  {
   "cell_type": "markdown",
   "id": "395d6eb1-03f2-4f9d-af4c-19a78f661ee3",
   "metadata": {},
   "source": [
    "# YOLOv11 Training Script with Evaluation and Result Backup"
   ]
  },
  {
   "cell_type": "code",
   "execution_count": null,
   "id": "eb0e873e-84c5-4b9c-bb42-f7c61096bc24",
   "metadata": {},
   "outputs": [],
   "source": [
    "from ultralytics import YOLO\n",
    "import os\n",
    "import shutil"
   ]
  },
  {
   "cell_type": "code",
   "execution_count": null,
   "id": "e10cdc3f-433c-47b7-83a5-f59d917741c0",
   "metadata": {},
   "outputs": [],
   "source": [
    "model = YOLO('yolo11x.pt')  \n",
    "\n",
    "model.train(\n",
    "    data=\"YOLOExperiment.yaml\",  \n",
    "    epochs=80,                 \n",
    "    imgsz=1024,               \n",
    "    batch=8,                 \n",
    "    workers=4,                \n",
    "    project='runs/train',     \n",
    "    name='YOLOExperiment', \n",
    "    device=0, # Use GPU (0) or 'cpu' for cpu                \n",
    ")\n",
    "\n",
    "metrics = model.val(\n",
    "    data=\"YOLOExperiment.yaml\", \n",
    "    imgsz=1024,              \n",
    "    batch=8,                   \n",
    "    device=0                  \n",
    ")\n",
    "\n",
    "print(metrics)\n",
    "\n",
    "path = \"YOLOExperiment\" # Change path to where you wish to save model training results (including model weights)\n",
    "\n",
    "\n",
    "if not os.path.exists(path):\n",
    "    os.makedirs(path)\n",
    "\n",
    "train_path = \"runs/train\"\n",
    "\n",
    "destination = os.path.join(path, \"train\")\n",
    "if os.path.exists(destination):\n",
    "    shutil.rmtree(destination)\n",
    "\n",
    "shutil.copytree(train_path, destination)\n",
    "\n",
    "print(\"Full 'runs/train' folder saved\")"
   ]
  }
 ],
 "metadata": {
  "kernelspec": {
   "display_name": "Python [conda env:base] *",
   "language": "python",
   "name": "conda-base-py"
  },
  "language_info": {
   "codemirror_mode": {
    "name": "ipython",
    "version": 3
   },
   "file_extension": ".py",
   "mimetype": "text/x-python",
   "name": "python",
   "nbconvert_exporter": "python",
   "pygments_lexer": "ipython3",
   "version": "3.12.2"
  }
 },
 "nbformat": 4,
 "nbformat_minor": 5
}
